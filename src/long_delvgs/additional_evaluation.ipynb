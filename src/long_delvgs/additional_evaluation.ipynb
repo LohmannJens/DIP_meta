{
 "cells": [
  {
   "attachments": {},
   "cell_type": "markdown",
   "metadata": {},
   "source": [
    "Imports"
   ]
  },
  {
   "cell_type": "code",
   "execution_count": 5,
   "metadata": {},
   "outputs": [],
   "source": [
    "import sys\n",
    "\n",
    "import matplotlib.pyplot as plt\n",
    "\n",
    "sys.path.insert(0, \"..\")\n",
    "from utils import load_all\n",
    "from utils import CMAP\n",
    "\n",
    "from overall_comparision.compare_expected import plot_expected_vs_observed_direct_repeat_heatmaps, plot_expected_vs_observed_nucleotide_enrichment_heatmaps, nucleotide_pair_plot\n",
    "\n",
    "plt.style.use(\"seaborn\")\n",
    "cm = plt.get_cmap(CMAP)"
   ]
  },
  {
   "attachments": {},
   "cell_type": "markdown",
   "metadata": {},
   "source": [
    "## Load data and split long and short"
   ]
  },
  {
   "cell_type": "code",
   "execution_count": 6,
   "metadata": {},
   "outputs": [
    {
     "name": "stdout",
     "output_type": "stream",
     "text": [
      "(1438, 13)\n",
      "(4818, 13)\n"
     ]
    }
   ],
   "source": [
    "dfname = \"Pelz2021\"\n",
    "dfs, exp_dfs = load_all([dfname], True)\n",
    "df = dfs[0]\n",
    "exp_df = exp_dfs[0]\n",
    "\n",
    "df[\"len_full\"] = df[\"full_seq\"].apply(len)\n",
    "df[\"len_di\"] = df[\"len_full\"] - df[\"deleted_sequence\"].apply(len)\n",
    "df[\"len_ratio\"] = df[\"len_di\"] / df[\"len_full\"]\n",
    "\n",
    "long_df = df[df[\"len_ratio\"] > 0.85].copy()\n",
    "short_df = df[df[\"len_ratio\"] <= 0.85].copy()\n",
    "\n",
    "print(long_df.shape)\n",
    "print(short_df.shape)"
   ]
  },
  {
   "attachments": {},
   "cell_type": "markdown",
   "metadata": {},
   "source": [
    "## calculate direct repeats"
   ]
  },
  {
   "cell_type": "code",
   "execution_count": 7,
   "metadata": {},
   "outputs": [],
   "source": [
    "plot_expected_vs_observed_direct_repeat_heatmaps([df, short_df, long_df, short_df], [\"full\", \"short\", \"long\", \"short-long\"], [exp_df, exp_df, exp_df, long_df], \"long - short\", folder=\"long_delvgs\")\n",
    "plot_expected_vs_observed_nucleotide_enrichment_heatmaps([df, short_df, long_df, short_df], [\"full\", \"short\", \"long\", \"short-long\"], [exp_df, exp_df, exp_df, long_df], \"long - short\", folder=\"long_delvgs\")\n",
    "\n",
    "labels = [\"long\", \"short\"]\n",
    "nucleotide_pair_plot([long_df], [short_df], \"Start\", labels, folder=\"long_delvgs\")\n",
    "nucleotide_pair_plot([long_df], [short_df], \"End\", labels, folder=\"long_delvgs\")"
   ]
  }
 ],
 "metadata": {
  "kernelspec": {
   "display_name": "dips",
   "language": "python",
   "name": "python3"
  },
  "language_info": {
   "codemirror_mode": {
    "name": "ipython",
    "version": 3
   },
   "file_extension": ".py",
   "mimetype": "text/x-python",
   "name": "python",
   "nbconvert_exporter": "python",
   "pygments_lexer": "ipython3",
   "version": "3.9.12"
  },
  "orig_nbformat": 4
 },
 "nbformat": 4,
 "nbformat_minor": 2
}
